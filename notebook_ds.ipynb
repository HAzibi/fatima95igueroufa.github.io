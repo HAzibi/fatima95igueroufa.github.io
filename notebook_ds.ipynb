{
 "cells": [
  {
   "cell_type": "code",
   "execution_count": 1,
   "metadata": {},
   "outputs": [],
   "source": [
    "import pyodbc"
   ]
  },
  {
   "cell_type": "code",
   "execution_count": 2,
   "metadata": {},
   "outputs": [
    {
     "name": "stdout",
     "output_type": "stream",
     "text": [
      "Connection established successfully!\n"
     ]
    }
   ],
   "source": [
    "# Define connection parameters\n",
    "server = 'DESKTOP-8C0JHNN\\SQLEXPRESS' \n",
    "database = 'testDB'\n",
    "\n",
    "# Establish connection using trusted connection\n",
    "# username = 'your_username'\n",
    "# password = 'your_password'\n",
    "# connection_string = f'DRIVER={{SQL Server}};SERVER={server};DATABASE={database};UID={username};PWD={password};'\n",
    "\n",
    "connection_string = f'DRIVER={{SQL Server}};SERVER={server};DATABASE={database};Trusted_Connection=yes;'\n",
    "\n",
    "# Create a connection\n",
    "conn = pyodbc.connect(connection_string)\n",
    "\n",
    "# Print success message\n",
    "print(\"Connection established successfully!\")"
   ]
  },
  {
   "cell_type": "code",
   "execution_count": 3,
   "metadata": {},
   "outputs": [
    {
     "name": "stdout",
     "output_type": "stream",
     "text": [
      "Available tables in the database:\n",
      "Persons3\n",
      "Customer\n",
      "Employees1\n",
      "Employees2\n",
      "Employees3\n",
      "ProjectEmployees\n",
      "Persons4\n",
      "algeria_cities\n",
      "Cities\n",
      "StagingCities\n",
      "TableA\n",
      "TableB\n",
      "Persons2\n",
      "Employees\n",
      "Persons\n",
      "Departments\n",
      "Orders\n"
     ]
    }
   ],
   "source": [
    "# afficher les différentes tables de la BDD 'testDB'\n",
    "try:\n",
    "    conn = pyodbc.connect(connection_string)\n",
    "    cursor = conn.cursor()\n",
    "\n",
    "    # Get the list of available tables in the database\n",
    "    cursor.execute(\"SELECT TABLE_NAME FROM INFORMATION_SCHEMA.TABLES WHERE TABLE_TYPE='BASE TABLE';\")\n",
    "    \n",
    "    table_names = [row.TABLE_NAME for row in cursor.fetchall()]\n",
    "\n",
    "    if len(table_names) > 0:\n",
    "        print(\"Available tables in the database:\")\n",
    "        for table_name in table_names:\n",
    "            print(table_name)\n",
    "    else:\n",
    "        print(\"No tables found in the database.\")\n",
    "    \n",
    "except pyodbc.Error as e:\n",
    "    print(f\"Error: {e}\")\n",
    "finally:\n",
    "    conn.close()"
   ]
  },
  {
   "cell_type": "code",
   "execution_count": 6,
   "metadata": {},
   "outputs": [
    {
     "ename": "ProgrammingError",
     "evalue": "('42S02', \"[42S02] [Microsoft][ODBC SQL Server Driver][SQL Server]Invalid object name 'Employees17'. (208) (SQLExecDirectW)\")",
     "output_type": "error",
     "traceback": [
      "\u001b[1;31m---------------------------------------------------------------------------\u001b[0m",
      "\u001b[1;31mProgrammingError\u001b[0m                          Traceback (most recent call last)",
      "Cell \u001b[1;32mIn[6], line 14\u001b[0m\n\u001b[0;32m      8\u001b[0m select_query \u001b[38;5;241m=\u001b[39m \u001b[38;5;124m\"\"\"\u001b[39m\n\u001b[0;32m      9\u001b[0m \u001b[38;5;124m                SELECT [EmployeeName], [Department] \u001b[39m\n\u001b[0;32m     10\u001b[0m \u001b[38;5;124m                FROM [Employees17];\u001b[39m\n\u001b[0;32m     11\u001b[0m \u001b[38;5;124m                \u001b[39m\u001b[38;5;124m\"\"\"\u001b[39m\n\u001b[0;32m     13\u001b[0m \u001b[38;5;66;03m# Execute the query\u001b[39;00m\n\u001b[1;32m---> 14\u001b[0m \u001b[43mcursor\u001b[49m\u001b[38;5;241;43m.\u001b[39;49m\u001b[43mexecute\u001b[49m\u001b[43m(\u001b[49m\u001b[43mselect_query\u001b[49m\u001b[43m)\u001b[49m\n\u001b[0;32m     16\u001b[0m \u001b[38;5;66;03m# Fetch all results\u001b[39;00m\n\u001b[0;32m     17\u001b[0m rows \u001b[38;5;241m=\u001b[39m cursor\u001b[38;5;241m.\u001b[39mfetchall()\n",
      "\u001b[1;31mProgrammingError\u001b[0m: ('42S02', \"[42S02] [Microsoft][ODBC SQL Server Driver][SQL Server]Invalid object name 'Employees17'. (208) (SQLExecDirectW)\")"
     ]
    }
   ],
   "source": [
    "# Create a connection\n",
    "conn = pyodbc.connect(connection_string)\n",
    "\n",
    "# Create a cursor object\n",
    "cursor = conn.cursor()\n",
    "\n",
    "# Define the query\n",
    "select_query = \"\"\"\n",
    "                SELECT [EmployeeName], [Department] \n",
    "                FROM [Employees17];\n",
    "                \"\"\"\n",
    "\n",
    "# Execute the query\n",
    "cursor.execute(select_query)\n",
    "\n",
    "# Fetch all results\n",
    "rows = cursor.fetchall()\n",
    "\n",
    "# Print the results\n",
    "for row in rows:\n",
    "    print(row)\n",
    "\n",
    "# Close the cursor\n",
    "cursor.close()\n",
    "\n",
    "print(\"suite du code\")\n"
   ]
  },
  {
   "cell_type": "code",
   "execution_count": 24,
   "metadata": {},
   "outputs": [
    {
     "name": "stdout",
     "output_type": "stream",
     "text": [
      "(1, 'John Doe', 'Sales')\n",
      "(2, 'Jane Smith', 'HR')\n",
      "(3, 'Michael Brown', 'IT')\n",
      "(4, 'Mohamed LARBI', 'Production')\n",
      "(5, 'DIB Hamid', 'IT')\n",
      "(6, 'MOULOUDI Mohamed', 'HR')\n",
      "(7, 'MOULAY Hani', 'IT')\n",
      "(8, 'DIB AMINE', 'IT')\n"
     ]
    }
   ],
   "source": [
    "try:\n",
    "    conn = pyodbc.connect(connection_string)\n",
    "    cursor = conn.cursor()\n",
    "\n",
    "    # Define the query\n",
    "    select_query = \"\"\"\n",
    "                    SELECT TOP (1000) [EmployeeID]\n",
    "                        ,[EmployeeName]\n",
    "                        ,[Department]\n",
    "                    FROM [Employees1]\n",
    "                    \"\"\"\n",
    "\n",
    "    # Execute the query\n",
    "    cursor.execute(select_query)\n",
    "\n",
    "    # Fetch all results\n",
    "    rows = cursor.fetchall()\n",
    "\n",
    "    # Print the results\n",
    "    for row in rows:\n",
    "        print(row)\n",
    "\n",
    "except pyodbc.Error as e:\n",
    "    print(f\"Error: {e}\")\n",
    "\n",
    "finally:\n",
    "    conn.close()\n"
   ]
  },
  {
   "cell_type": "code",
   "execution_count": 8,
   "metadata": {},
   "outputs": [
    {
     "name": "stdout",
     "output_type": "stream",
     "text": [
      "Data inserted successfully!\n"
     ]
    }
   ],
   "source": [
    "# la requête INSERT\n",
    "try:\n",
    "    conn = pyodbc.connect(connection_string)\n",
    "    cursor = conn.cursor()\n",
    "\n",
    "    # Define the insert query\n",
    "    insert_query = \"\"\" \n",
    "                        INSERT INTO [Employees1] \n",
    "                            ([EmployeeID], [EmployeeName], [Department]) \n",
    "                            VALUES\n",
    "                            (?, ?, ?);\n",
    "                    \"\"\"\n",
    "\n",
    "    values = (5, 'MOULOUDI Said', 'HR')  # Replace with actual values\n",
    "\n",
    "    # Execute the insert query\n",
    "    cursor.execute(insert_query, values)\n",
    "\n",
    "    # Commit the transaction\n",
    "    conn.commit()\n",
    "\n",
    "    # Print success message\n",
    "    print(\"Data inserted successfully!\")\n",
    "\n",
    "except pyodbc.Error as e:\n",
    "    print(f\"Error: {e}\")\n",
    "\n",
    "finally:\n",
    "    conn.close()\n"
   ]
  },
  {
   "cell_type": "code",
   "execution_count": 25,
   "metadata": {},
   "outputs": [
    {
     "name": "stdout",
     "output_type": "stream",
     "text": [
      "Error: ('23000', \"[23000] [Microsoft][ODBC SQL Server Driver][SQL Server]Violation of PRIMARY KEY constraint 'PK_Employee1'. Cannot insert duplicate key in object 'dbo.Employees1'. The duplicate key value is (5). (2627) (SQLExecDirectW); [23000] [Microsoft][ODBC SQL Server Driver][SQL Server]The statement has been terminated. (3621)\")\n"
     ]
    }
   ],
   "source": [
    "# la requête INSERT\n",
    "try:\n",
    "    conn = pyodbc.connect(connection_string)\n",
    "    cursor = conn.cursor()\n",
    "\n",
    "    # Define the insert query\n",
    "    insert_query = \"\"\" \n",
    "                        INSERT INTO [Employees1] \n",
    "                            ([EmployeeID], [EmployeeName], [Department]) \n",
    "                            VALUES\n",
    "                            (?, ?, ?);\n",
    "                    \"\"\"\n",
    "\n",
    "    values = (5, 'MOULOUDI Taher', 'HR')\n",
    "\n",
    "    # Execute the insert query\n",
    "    cursor.execute(insert_query, values)\n",
    "\n",
    "    # Commit the transaction\n",
    "    conn.commit()\n",
    "\n",
    "    # Print success message\n",
    "    print(\"Data inserted successfully!\")\n",
    "\n",
    "except pyodbc.Error as e:\n",
    "    print(f\"Error: {e}\")\n",
    "\n",
    "finally:\n",
    "    conn.close()\n"
   ]
  },
  {
   "cell_type": "code",
   "execution_count": 12,
   "metadata": {},
   "outputs": [
    {
     "name": "stdout",
     "output_type": "stream",
     "text": [
      "Data inserted successfully!\n"
     ]
    }
   ],
   "source": [
    "# la requête INSERT with many rows\n",
    "try:\n",
    "    conn = pyodbc.connect(connection_string)\n",
    "    cursor = conn.cursor()\n",
    "\n",
    "    # Define the insert query\n",
    "    insert_query = \"\"\" \n",
    "                        INSERT INTO [Employees1] \n",
    "                            ([EmployeeID], [EmployeeName], [Department]) \n",
    "                            VALUES\n",
    "                            (?, ?, ?);\n",
    "                    \"\"\"\n",
    "\n",
    "    values = [\n",
    "        (6, 'MOULOUDI Mohamed', 'HR'),\n",
    "        (7, 'MOULAY Hani', 'IT'),\n",
    "        (8, 'DIB AMINE', 'IT')\n",
    "    ] \n",
    "\n",
    "    # Execute the insert query for multiple rows\n",
    "    cursor.executemany(insert_query, values)\n",
    "\n",
    "    # Commit the transaction\n",
    "    conn.commit()\n",
    "\n",
    "    # Print success message\n",
    "    print(\"Data inserted successfully!\")\n",
    "\n",
    "except pyodbc.Error as e:\n",
    "    print(f\"Error: {e}\")\n",
    "\n",
    "finally:\n",
    "    conn.close()\n"
   ]
  },
  {
   "cell_type": "code",
   "execution_count": 19,
   "metadata": {},
   "outputs": [
    {
     "name": "stdout",
     "output_type": "stream",
     "text": [
      "Data updated successfully!\n"
     ]
    }
   ],
   "source": [
    "# la requête UPDATE qui permet de modifier les valeurs des colonnes\n",
    "try:\n",
    "    conn = pyodbc.connect(connection_string)\n",
    "    cursor = conn.cursor()\n",
    "\n",
    "    # Define the update query\n",
    "    update_query = \"\"\"\n",
    "                    UPDATE Persons\n",
    "                        SET [LastName] = ? \n",
    "                        WHERE [PersonID] = ?\n",
    "                    \"\"\"\n",
    "    values = ('MOULAY', 2)  # Replace with actual values\n",
    "\n",
    "    # Execute the update query\n",
    "    cursor.execute(update_query, values)\n",
    "\n",
    "    # Commit the transaction\n",
    "    conn.commit()\n",
    "\n",
    "    # Print success message\n",
    "    print(\"Data updated successfully!\")\n",
    "\n",
    "except pyodbc.Error as e:\n",
    "    print(f\"Error: {e}\")\n",
    "\n",
    "finally:\n",
    "    conn.close()\n"
   ]
  },
  {
   "cell_type": "code",
   "execution_count": 20,
   "metadata": {},
   "outputs": [
    {
     "name": "stdout",
     "output_type": "stream",
     "text": [
      "Data deleted successfully!\n"
     ]
    }
   ],
   "source": [
    "# la requête DELETE qui permet de supprimer des lignes\n",
    "try:\n",
    "    conn = pyodbc.connect(connection_string)\n",
    "    cursor = conn.cursor()\n",
    "\n",
    "    # Define the update query\n",
    "    delete_query = \"\"\"\n",
    "                    DELETE FROM Persons\n",
    "                        WHERE [PersonID] = ?\n",
    "                    \"\"\"\n",
    "    values = (1,) \n",
    "\n",
    "    # Execute the delete query\n",
    "    cursor.execute(delete_query, values)\n",
    "\n",
    "    # Commit the transaction\n",
    "    conn.commit()\n",
    "\n",
    "    # Print success message\n",
    "    print(\"Data deleted successfully!\")\n",
    "\n",
    "except pyodbc.Error as e:\n",
    "    print(f\"Error: {e}\")\n",
    "\n",
    "finally:\n",
    "    conn.close()\n"
   ]
  },
  {
   "cell_type": "code",
   "execution_count": 22,
   "metadata": {},
   "outputs": [
    {
     "name": "stdout",
     "output_type": "stream",
     "text": [
      "Table altered successfully!\n"
     ]
    }
   ],
   "source": [
    "# la requête ALTER qui permet de modifier la structre de la table\n",
    "try:\n",
    "    conn = pyodbc.connect(connection_string)\n",
    "    cursor = conn.cursor()\n",
    "\n",
    "    # Define the alter query\n",
    "    alter_query = \"\"\"\n",
    "                    ALTER TABLE Employees1\n",
    "                    ALTER COLUMN EmployeeID INT NOT NULL;\n",
    "                    \"\"\"\n",
    "    values = () \n",
    "\n",
    "    # Execute the alter query\n",
    "    cursor.execute(alter_query)\n",
    "\n",
    "    # Commit the transaction\n",
    "    conn.commit()\n",
    "\n",
    "    # Print success message\n",
    "    print(\"Table altered successfully!\")\n",
    "\n",
    "except pyodbc.Error as e:\n",
    "    print(f\"Error: {e}\")\n",
    "\n",
    "finally:\n",
    "    conn.close()\n"
   ]
  },
  {
   "cell_type": "code",
   "execution_count": 23,
   "metadata": {},
   "outputs": [
    {
     "name": "stdout",
     "output_type": "stream",
     "text": [
      "Table altered successfully!\n"
     ]
    }
   ],
   "source": [
    "# la requête ALTER qui permet de modifier la structre de la table\n",
    "try:\n",
    "    conn = pyodbc.connect(connection_string)\n",
    "    cursor = conn.cursor()\n",
    "\n",
    "    # Define the alter query\n",
    "    alter_query = \"\"\"\n",
    "                    ALTER TABLE Employees1\n",
    "                    ADD CONSTRAINT PK_Employee1 PRIMARY KEY (EmployeeID);\n",
    "                    \"\"\"\n",
    "    values = () \n",
    "\n",
    "    # Execute the alter query\n",
    "    cursor.execute(alter_query)\n",
    "\n",
    "    # Commit the transaction\n",
    "    conn.commit()\n",
    "\n",
    "    # Print success message\n",
    "    print(\"Table altered successfully!\")\n",
    "\n",
    "except pyodbc.Error as e:\n",
    "    print(f\"Error: {e}\")\n",
    "\n",
    "finally:\n",
    "    conn.close()\n"
   ]
  }
 ],
 "metadata": {
  "kernelspec": {
   "display_name": "nouvEnvPy311",
   "language": "python",
   "name": "python3"
  },
  "language_info": {
   "codemirror_mode": {
    "name": "ipython",
    "version": 3
   },
   "file_extension": ".py",
   "mimetype": "text/x-python",
   "name": "python",
   "nbconvert_exporter": "python",
   "pygments_lexer": "ipython3",
   "version": "3.11.9"
  }
 },
 "nbformat": 4,
 "nbformat_minor": 2
}
